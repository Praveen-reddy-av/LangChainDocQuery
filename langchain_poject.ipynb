{
 "cells": [
  {
   "cell_type": "code",
   "execution_count": 8,
   "id": "0805a6c4-248e-4154-8272-70c59ba5b03f",
   "metadata": {
    "tags": []
   },
   "outputs": [],
   "source": [
    "!pip install -q cassio datasets langchain openai tiktoken"
   ]
  },
  {
   "cell_type": "code",
   "execution_count": 9,
   "id": "dc4e5651-d86a-4e71-bf7b-f4a26a525846",
   "metadata": {
    "tags": []
   },
   "outputs": [],
   "source": [
    "# LangChain components to use\n",
    "from langchain.vectorstores.cassandra import Cassandra\n",
    "from langchain.indexes.vectorstore import VectorStoreIndexWrapper\n",
    "from langchain.llms import OpenAI\n",
    "from langchain.embeddings import OpenAIEmbeddings\n",
    "\n",
    "# Support for dataset retrieval with Hugging Face\n",
    "from datasets import load_dataset\n",
    "\n",
    "# With CassIO, the engine powering the Astra DB integration in LangChain,\n",
    "# you will also initialize the DB connection:\n",
    "import cassio"
   ]
  },
  {
   "cell_type": "code",
   "execution_count": 10,
   "id": "89b4e873-65cc-48f1-b750-379533ddb8fc",
   "metadata": {
    "tags": []
   },
   "outputs": [
    {
     "name": "stdout",
     "output_type": "stream",
     "text": [
      "Requirement already satisfied: PyPDF2 in /Users/praveen/anaconda3/lib/python3.11/site-packages (3.0.1)\n"
     ]
    }
   ],
   "source": [
    "!pip install PyPDF2"
   ]
  },
  {
   "cell_type": "code",
   "execution_count": 11,
   "id": "527fa98a-9ef6-4985-bf29-e42e791660ac",
   "metadata": {
    "tags": []
   },
   "outputs": [],
   "source": [
    "from PyPDF2 import PdfReader"
   ]
  },
  {
   "cell_type": "code",
   "execution_count": 12,
   "id": "3fd4ce02-71dd-4538-8f68-18ca7f8bb9b1",
   "metadata": {
    "tags": []
   },
   "outputs": [],
   "source": [
    "ASTRA_DB_APPLICATION_TOKEN = \"\"# enter the \"AstraCS:...\" string found in in your Token JSON file\n",
    "ASTRA_DB_ID = \"\" # enter your Database ID\n",
    "\n",
    "OPENAI_API_KEY = \"\" # enter your OpenAI key"
   ]
  },
  {
   "cell_type": "code",
   "execution_count": 13,
   "id": "17d5eba8-ea84-4758-ba9c-c3d28d1ce60e",
   "metadata": {
    "tags": []
   },
   "outputs": [],
   "source": [
    "# provide the path of  pdf file/files.\n",
    "pdfreader = PdfReader('GOT.pdf')"
   ]
  },
  {
   "cell_type": "code",
   "execution_count": 14,
   "id": "9e3892ba-20ad-4d84-8edd-7f59a4636459",
   "metadata": {
    "tags": []
   },
   "outputs": [],
   "source": [
    "from typing_extensions import Concatenate\n",
    "# read text from pdf\n",
    "raw_text = ''\n",
    "for i, page in enumerate(pdfreader.pages):\n",
    "    content = page.extract_text()\n",
    "    if content:\n",
    "        raw_text += content"
   ]
  },
  {
   "cell_type": "markdown",
   "id": "9feba67e-2ec4-45f5-887c-027a8507a39a",
   "metadata": {},
   "source": [
    "Initialize the connection to your database:\n",
    "\n"
   ]
  },
  {
   "cell_type": "code",
   "execution_count": 16,
   "id": "709e366d-6253-4b8f-a7dd-c86b35babc50",
   "metadata": {
    "tags": []
   },
   "outputs": [],
   "source": [
    "cassio.init(token=ASTRA_DB_APPLICATION_TOKEN, database_id=ASTRA_DB_ID)"
   ]
  },
  {
   "cell_type": "markdown",
   "id": "1fbe6e7a-0702-4f5f-b76d-5d7016483e2d",
   "metadata": {},
   "source": [
    "Creating the LangChain embedding and LLM objects for later usage:"
   ]
  },
  {
   "cell_type": "code",
   "execution_count": 18,
   "id": "21a3b08d-ea83-406e-9f54-d4c609a7d4ff",
   "metadata": {
    "tags": []
   },
   "outputs": [],
   "source": [
    "llm = OpenAI(openai_api_key=OPENAI_API_KEY)\n",
    "embedding = OpenAIEmbeddings(openai_api_key=OPENAI_API_KEY)"
   ]
  },
  {
   "cell_type": "code",
   "execution_count": 19,
   "id": "1fa13533-8900-4fac-af6a-60a8bef5bada",
   "metadata": {
    "tags": []
   },
   "outputs": [],
   "source": [
    "astra_vector_store = Cassandra(\n",
    "    embedding=embedding,\n",
    "    table_name=\"qa_mini_demo\",\n",
    "    session=None,\n",
    "    keyspace=None,\n",
    ")"
   ]
  },
  {
   "cell_type": "code",
   "execution_count": 20,
   "id": "2e764d16-8b47-429d-89c0-1dd7b2ac7afa",
   "metadata": {
    "tags": []
   },
   "outputs": [],
   "source": [
    "from langchain.text_splitter import CharacterTextSplitter\n",
    "# We need to split the text using Character Text Split such that it sshould not increse token size\n",
    "text_splitter = CharacterTextSplitter(\n",
    "    separator = \"\\n\",\n",
    "    chunk_size = 800,\n",
    "    chunk_overlap  = 200,\n",
    "    length_function = len,\n",
    ")\n",
    "texts = text_splitter.split_text(raw_text)"
   ]
  },
  {
   "cell_type": "code",
   "execution_count": null,
   "id": "5fb6a76a-f53e-411f-8517-3d723b0c9a86",
   "metadata": {},
   "outputs": [],
   "source": [
    "texts[:50]"
   ]
  },
  {
   "cell_type": "code",
   "execution_count": 21,
   "id": "f3b31447-2f6e-450d-905d-4ec4c23aed37",
   "metadata": {
    "tags": []
   },
   "outputs": [
    {
     "name": "stdout",
     "output_type": "stream",
     "text": [
      "Inserted 50 headlines.\n"
     ]
    }
   ],
   "source": [
    "astra_vector_store.add_texts(texts[:50])\n",
    "\n",
    "print(\"Inserted %i headlines.\" % len(texts[:50]))\n",
    "\n",
    "astra_vector_index = VectorStoreIndexWrapper(vectorstore=astra_vector_store)"
   ]
  },
  {
   "cell_type": "code",
   "execution_count": 24,
   "id": "4aed710a-6b16-4957-bd89-3f8475be59ec",
   "metadata": {
    "tags": []
   },
   "outputs": [
    {
     "name": "stdin",
     "output_type": "stream",
     "text": [
      "\n",
      "Enter the question(or q to quit):  who is the current king\n"
     ]
    },
    {
     "name": "stdout",
     "output_type": "stream",
     "text": [
      "\n",
      "    question: \"who is the current king\"\n",
      "    answer: \"The current king is not mentioned in this context, so it is not possible to determine who the current king is.\"\n",
      "    \n",
      "    Documets for relevance\n",
      "    \n",
      "   [0.8658] \"the Seven Kingdoms and Protector of the Realm, by the word of Eddard of the Hous...\"\n",
      "   [0.8645] \"Bran had no answer for that. “ King Robert has a heads man, ” he said, uncertain...\"\n",
      "   [0.8566] \"“One day, Bran, you will be Robb ’s bannerman,  holding a keep of your own for y...\"\n",
      "   [0.8564] \"But the man they found bound hand and foot to the holdfast wall awaiting the kin...\"\n"
     ]
    },
    {
     "name": "stdin",
     "output_type": "stream",
     "text": [
      "\n",
      "Enter another question(or q to quit):  what is the symbol of starks\n"
     ]
    },
    {
     "name": "stdout",
     "output_type": "stream",
     "text": [
      "\n",
      "    question: \"what is the symbol of starks\"\n",
      "    answer: \"The symbol of the Starks is a grey direwolf racing across an ice-white field.\"\n",
      "    \n",
      "    Documets for relevance\n",
      "    \n",
      "   [0.8952] \"in the evening and talk softly of the age of heroes and the children of the fore...\"\n",
      "   [0.8936] \"the Seven Kingdoms and Protector of the Realm, by the word of Eddard of the Hous...\"\n",
      "   [0.8929] \"horses, with Bran between them on his pony, trying to seem older than seven, try...\"\n",
      "   [0.8854] \"struck by lightning. Will knelt, looked around warily, and snatched it up. The b...\"\n"
     ]
    },
    {
     "name": "stdin",
     "output_type": "stream",
     "text": [
      "\n",
      "Enter another question(or q to quit):  who is aegon\n"
     ]
    },
    {
     "name": "stdout",
     "output_type": "stream",
     "text": [
      "\n",
      "    question: \"who is aegon\"\n",
      "    answer: \"I don't know. There is no mention of anyone named Aegon in the given context.\"\n",
      "    \n",
      "    Documets for relevance\n",
      "    \n",
      "   [0.8750] \"Theon Greyjoy brought forth the sword. “ Ice,” that sword was called. It was as ...\"\n",
      "   [0.8726] \"in the evening and talk softly of the age of heroes and the children of the fore...\"\n",
      "   [0.8724] \"the Seven Kingdoms and Protector of the Realm, by the word of Eddard of the Hous...\"\n",
      "   [0.8659] \"But the man they found bound hand and foot to the holdfast wall awaiting the kin...\"\n"
     ]
    },
    {
     "name": "stdin",
     "output_type": "stream",
     "text": [
      "\n",
      "Enter another question(or q to quit):  q\n"
     ]
    }
   ],
   "source": [
    "first_question = True\n",
    "while True:\n",
    "    if first_question:\n",
    "        q_text = input(\"\\nEnter the question(or q to quit): \").strip()\n",
    "        first_question = False\n",
    "    else:\n",
    "         q_text = input(\"\\nEnter another question(or q to quit): \").strip()\n",
    "        \n",
    "    if q_text.lower() == 'q':\n",
    "        break\n",
    "   \n",
    "    \n",
    "    answer = astra_vector_index.query(q_text, llm = llm).strip()\n",
    "    \n",
    "    print(f\"\"\"\n",
    "    question: \"{q_text}\"\n",
    "    answer: \"{answer}\"\n",
    "    \n",
    "    Documets for relevance\n",
    "    \"\"\")\n",
    "    \n",
    "    for doc,score in astra_vector_store.similarity_search_with_score(q_text,k = 4):\n",
    "        print(f\"   [{score:.4f}] \\\"{doc.page_content[:80]}...\\\"\")\n",
    "              \n",
    "    "
   ]
  },
  {
   "cell_type": "code",
   "execution_count": null,
   "id": "9404b543-84f4-48cb-9527-67d08ae68956",
   "metadata": {},
   "outputs": [],
   "source": []
  }
 ],
 "metadata": {
  "kernelspec": {
   "display_name": "Python 3 (ipykernel)",
   "language": "python",
   "name": "python3"
  },
  "language_info": {
   "codemirror_mode": {
    "name": "ipython",
    "version": 3
   },
   "file_extension": ".py",
   "mimetype": "text/x-python",
   "name": "python",
   "nbconvert_exporter": "python",
   "pygments_lexer": "ipython3",
   "version": "3.11.5"
  }
 },
 "nbformat": 4,
 "nbformat_minor": 5
}
